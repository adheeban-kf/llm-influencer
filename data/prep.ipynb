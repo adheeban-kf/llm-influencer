{
 "cells": [
  {
   "cell_type": "code",
   "execution_count": 2,
   "metadata": {},
   "outputs": [],
   "source": [
    "import pandas as pd"
   ]
  },
  {
   "cell_type": "code",
   "execution_count": 3,
   "metadata": {},
   "outputs": [],
   "source": [
    "with open('quotes.json','r') as f:\n",
    "    stream = f.read()\n",
    "    df = pd.read_json(stream)"
   ]
  },
  {
   "cell_type": "code",
   "execution_count": 4,
   "metadata": {},
   "outputs": [
    {
     "name": "stdout",
     "output_type": "stream",
     "text": [
      "<class 'pandas.core.frame.DataFrame'>\n",
      "RangeIndex: 48391 entries, 0 to 48390\n",
      "Data columns (total 5 columns):\n",
      " #   Column      Non-Null Count  Dtype  \n",
      "---  ------      --------------  -----  \n",
      " 0   Quote       48391 non-null  object \n",
      " 1   Author      48391 non-null  object \n",
      " 2   Tags        48391 non-null  object \n",
      " 3   Popularity  48391 non-null  float64\n",
      " 4   Category    48391 non-null  object \n",
      "dtypes: float64(1), object(4)\n",
      "memory usage: 1.8+ MB\n"
     ]
    }
   ],
   "source": [
    "df.info()"
   ]
  },
  {
   "cell_type": "code",
   "execution_count": 5,
   "metadata": {},
   "outputs": [],
   "source": [
    "df = df[df.Popularity > df.Popularity.mean()].drop_duplicates(subset=['Quote'])"
   ]
  },
  {
   "cell_type": "code",
   "execution_count": 6,
   "metadata": {},
   "outputs": [
    {
     "data": {
      "text/html": [
       "<div>\n",
       "<style scoped>\n",
       "    .dataframe tbody tr th:only-of-type {\n",
       "        vertical-align: middle;\n",
       "    }\n",
       "\n",
       "    .dataframe tbody tr th {\n",
       "        vertical-align: top;\n",
       "    }\n",
       "\n",
       "    .dataframe thead th {\n",
       "        text-align: right;\n",
       "    }\n",
       "</style>\n",
       "<table border=\"1\" class=\"dataframe\">\n",
       "  <thead>\n",
       "    <tr style=\"text-align: right;\">\n",
       "      <th></th>\n",
       "      <th>Quote</th>\n",
       "      <th>Author</th>\n",
       "      <th>Tags</th>\n",
       "      <th>Popularity</th>\n",
       "      <th>Category</th>\n",
       "    </tr>\n",
       "  </thead>\n",
       "  <tbody>\n",
       "    <tr>\n",
       "      <th>0</th>\n",
       "      <td>Don't cry because it's over, smile because it ...</td>\n",
       "      <td>Dr. Seuss</td>\n",
       "      <td>[attributed-no-source, cry, crying, experience...</td>\n",
       "      <td>0.155666</td>\n",
       "      <td>life</td>\n",
       "    </tr>\n",
       "    <tr>\n",
       "      <th>2</th>\n",
       "      <td>I'm selfish, impatient and a little insecure. ...</td>\n",
       "      <td>Marilyn Monroe</td>\n",
       "      <td>[attributed-no-source, best, life, love, mista...</td>\n",
       "      <td>0.129122</td>\n",
       "      <td>love</td>\n",
       "    </tr>\n",
       "    <tr>\n",
       "      <th>5</th>\n",
       "      <td>Be yourself; everyone else is already taken.</td>\n",
       "      <td>Oscar Wilde</td>\n",
       "      <td>[attributed-no-source, be-yourself, honesty, i...</td>\n",
       "      <td>0.113223</td>\n",
       "      <td>inspiration</td>\n",
       "    </tr>\n",
       "    <tr>\n",
       "      <th>6</th>\n",
       "      <td>Two things are infinite: the universe and huma...</td>\n",
       "      <td>Albert Einstein</td>\n",
       "      <td>[attributed-no-source, human-nature, humor, in...</td>\n",
       "      <td>0.103127</td>\n",
       "      <td>humor</td>\n",
       "    </tr>\n",
       "    <tr>\n",
       "      <th>9</th>\n",
       "      <td>Be who you are and say what you feel, because ...</td>\n",
       "      <td>Bernard M. Baruch</td>\n",
       "      <td>[ataraxy, be-yourself, confidence, fitting-in,...</td>\n",
       "      <td>0.101890</td>\n",
       "      <td></td>\n",
       "    </tr>\n",
       "  </tbody>\n",
       "</table>\n",
       "</div>"
      ],
      "text/plain": [
       "                                               Quote             Author  \\\n",
       "0  Don't cry because it's over, smile because it ...          Dr. Seuss   \n",
       "2  I'm selfish, impatient and a little insecure. ...     Marilyn Monroe   \n",
       "5       Be yourself; everyone else is already taken.        Oscar Wilde   \n",
       "6  Two things are infinite: the universe and huma...    Albert Einstein   \n",
       "9  Be who you are and say what you feel, because ...  Bernard M. Baruch   \n",
       "\n",
       "                                                Tags  Popularity     Category  \n",
       "0  [attributed-no-source, cry, crying, experience...    0.155666         life  \n",
       "2  [attributed-no-source, best, life, love, mista...    0.129122         love  \n",
       "5  [attributed-no-source, be-yourself, honesty, i...    0.113223  inspiration  \n",
       "6  [attributed-no-source, human-nature, humor, in...    0.103127        humor  \n",
       "9  [ataraxy, be-yourself, confidence, fitting-in,...    0.101890               "
      ]
     },
     "execution_count": 6,
     "metadata": {},
     "output_type": "execute_result"
    }
   ],
   "source": [
    "df.head()"
   ]
  },
  {
   "cell_type": "code",
   "execution_count": 7,
   "metadata": {},
   "outputs": [
    {
     "data": {
      "text/plain": [
       "Author\n",
       "Cassandra Clare         118\n",
       "J.K. Rowling             92\n",
       "Oscar Wilde              91\n",
       "John Green               82\n",
       "Mark Twain               65\n",
       "                       ... \n",
       "Josh Peck                 1\n",
       "Meir Kahane               1\n",
       "Richard Le Gallienne      1\n",
       "Murray Bartlett           1\n",
       "Nicole Sobon              1\n",
       "Name: count, Length: 3454, dtype: int64"
      ]
     },
     "execution_count": 7,
     "metadata": {},
     "output_type": "execute_result"
    }
   ],
   "source": [
    "df.Author = df.Author.apply(lambda x: x.split(',')[0])\n",
    "df.Author.value_counts()"
   ]
  },
  {
   "cell_type": "code",
   "execution_count": 8,
   "metadata": {},
   "outputs": [],
   "source": [
    "for auth in df.Author.unique():\n",
    "    recs = df[df.Author == auth]\n",
    "    if len(recs) < 4:\n",
    "        df.drop(index=recs.index, inplace=True)"
   ]
  },
  {
   "cell_type": "code",
   "execution_count": 9,
   "metadata": {},
   "outputs": [
    {
     "data": {
      "text/plain": [
       "Author\n",
       "Cassandra Clare     118\n",
       "J.K. Rowling         92\n",
       "Oscar Wilde          91\n",
       "John Green           82\n",
       "Mark Twain           65\n",
       "                   ... \n",
       "Jim Henson            4\n",
       "Harvey Fierstein      4\n",
       "Sun Tzu               4\n",
       "George Sand           4\n",
       "Kenneth Branagh       4\n",
       "Name: count, Length: 355, dtype: int64"
      ]
     },
     "execution_count": 9,
     "metadata": {},
     "output_type": "execute_result"
    }
   ],
   "source": [
    "df.Author.value_counts()"
   ]
  },
  {
   "cell_type": "code",
   "execution_count": 10,
   "metadata": {},
   "outputs": [],
   "source": [
    "test_l = df[df.Author == 'Cassandra Clare']['Quote'].head(5).tolist()"
   ]
  },
  {
   "cell_type": "code",
   "execution_count": 11,
   "metadata": {},
   "outputs": [
    {
     "name": "stdout",
     "output_type": "stream",
     "text": [
      "1) Have you fallen in love with the wrong person yet?'Jace said, \"Unfortunately, Lady of the Haven, my one true love remains myself.\"...\"At least,\"she said, \"you don't have to worry about rejection, Jace Wayland.\"\"Not necessarily. I turn myself down occasionally, just to keep it interesting.\n",
      "2) There is no pretending,\"Jace said with absolute clarity. \"I love you, and I will love you until I die, and if there is life after that, I'll love you then.\n",
      "3) One must always be careful of books,\"said Tessa, \"and what is inside them, for words have the power to change us.\n",
      "4) Jesus!\"Luke exclaimed.\"Actually, it's just me,\"said Simon. \"Although I've been told the resemblance is startling.\n",
      "5) Is this the part where you start tearing off strips of your shirt to bind my wounds?\"\"If you wanted me to rip my clothes off, you should have just asked.\n"
     ]
    }
   ],
   "source": [
    "for i,l in enumerate(test_l, 1):\n",
    "    print(f\"{i}) {l}\")"
   ]
  },
  {
   "cell_type": "code",
   "execution_count": 12,
   "metadata": {},
   "outputs": [],
   "source": [
    "df.to_json('finalq.json')"
   ]
  }
 ],
 "metadata": {
  "kernelspec": {
   "display_name": "venv",
   "language": "python",
   "name": "python3"
  },
  "language_info": {
   "codemirror_mode": {
    "name": "ipython",
    "version": 3
   },
   "file_extension": ".py",
   "mimetype": "text/x-python",
   "name": "python",
   "nbconvert_exporter": "python",
   "pygments_lexer": "ipython3",
   "version": "3.10.9"
  },
  "orig_nbformat": 4
 },
 "nbformat": 4,
 "nbformat_minor": 2
}
